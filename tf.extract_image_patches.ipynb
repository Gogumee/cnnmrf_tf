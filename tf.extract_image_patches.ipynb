{
 "cells": [
  {
   "cell_type": "code",
   "execution_count": 7,
   "metadata": {
    "collapsed": true
   },
   "outputs": [],
   "source": [
    "# https://stackoverflow.com/questions/40731433/understanding-tf-extract-image-patches-for-extracting-patches-from-an-image\n",
    "import tensorflow as tf\n",
    "import numpy as np"
   ]
  },
  {
   "cell_type": "code",
   "execution_count": 3,
   "metadata": {
    "collapsed": true
   },
   "outputs": [
    {
     "data": {
      "text/plain": [
       "'\\nAPI:\\n    tf.extract_image_patches(\\n        images,\\n        ksizes,\\n        strides,\\n        rates,\\n        padding,\\n        name=None\\n    )\\n\\nksizes: decide the dimensions of each patch, that is how many pixels each patch should contain\\nstrides: denotes the length of the gap between the start of one patch and the start of the next consecutive patch \\n             within the original image\\nrates: a number that essentially means our patch should jump by rates pixels in the original image \\n        for each consecutive pixel that ends up in our patch\\npadding: \"VALID\", which means every patch must be fully contained in the image\\n         \"SAME\", which means patches are allowed to be incomplete (the remaining pixels will be filled in with zeroes)  \\n'"
      ]
     },
     "execution_count": 3,
     "metadata": {},
     "output_type": "execute_result"
    }
   ],
   "source": [
    "'''\n",
    "API:\n",
    "    tf.extract_image_patches(\n",
    "        images,\n",
    "        ksizes,\n",
    "        strides,\n",
    "        rates,\n",
    "        padding,\n",
    "        name=None\n",
    "    )\n",
    "\n",
    "ksizes: decide the dimensions of each patch, that is how many pixels each patch should contain\n",
    "strides: denotes the length of the gap between the start of one patch and the start of the next consecutive patch \n",
    "             within the original image\n",
    "rates: a number that essentially means our patch should jump by rates pixels in the original image \n",
    "        for each consecutive pixel that ends up in our patch\n",
    "padding: \"VALID\", which means every patch must be fully contained in the image\n",
    "         \"SAME\", which means patches are allowed to be incomplete (the remaining pixels will be filled in with zeroes)  \n",
    "'''"
   ]
  },
  {
   "cell_type": "code",
   "execution_count": 54,
   "metadata": {},
   "outputs": [
    {
     "name": "stdout",
     "output_type": "stream",
     "text": [
      "(1, 10, 10, 1)\n"
     ]
    }
   ],
   "source": [
    "# example\n",
    "n = 10\n",
    "# images is a 1 x 10 x 10 x 1 array that contains the numbers 1 through 100 in order\n",
    "images = [[[[x * n + y + 1] for y in range(n)] for x in range(n)]]\n",
    "print(np.asarray(images).shape)\n",
    "# print(images)"
   ]
  },
  {
   "cell_type": "code",
   "execution_count": 10,
   "metadata": {},
   "outputs": [
    {
     "name": "stdout",
     "output_type": "stream",
     "text": [
      "[[[[ 1  2  3 11 12 13 21 22 23]\n",
      "   [ 6  7  8 16 17 18 26 27 28]]\n",
      "\n",
      "  [[51 52 53 61 62 63 71 72 73]\n",
      "   [56 57 58 66 67 68 76 77 78]]]] \n",
      "\n",
      "\n",
      "[[[[  1   3   5  21  23  25  41  43  45]\n",
      "   [  6   8  10  26  28  30  46  48  50]]\n",
      "\n",
      "  [[ 51  53  55  71  73  75  91  93  95]\n",
      "   [ 56  58  60  76  78  80  96  98 100]]]] \n",
      "\n",
      "\n",
      "[[[[ 1  2  3  4 11 12 13 14 21 22 23 24 31 32 33 34]]]] \n",
      "\n",
      "\n",
      "[[[[  1   2   3   4  11  12  13  14  21  22  23  24  31  32  33  34]\n",
      "   [  8   9  10   0  18  19  20   0  28  29  30   0  38  39  40   0]]\n",
      "\n",
      "  [[ 71  72  73  74  81  82  83  84  91  92  93  94   0   0   0   0]\n",
      "   [ 78  79  80   0  88  89  90   0  98  99 100   0   0   0   0   0]]]]\n"
     ]
    }
   ],
   "source": [
    "# We generate four outputs as follows:\n",
    "# 1. 3x3 patches with stride length 5\n",
    "# 2. Same as above, but the rate is increased to 2\n",
    "# 3. 4x4 patches with stride length 7; only one patch should be generated\n",
    "# 4. Same as above, but with padding set to 'SAME'\n",
    "with tf.Session() as sess:\n",
    "    print(tf.extract_image_patches(images=images, ksizes=[1, 3, 3, 1], strides=[1, 5, 5, 1], rates=[1, 1, 1, 1], padding='VALID').eval(), '\\n\\n')\n",
    "    print(tf.extract_image_patches(images=images, ksizes=[1, 3, 3, 1], strides=[1, 5, 5, 1], rates=[1, 2, 2, 1], padding='VALID').eval(), '\\n\\n')\n",
    "    print(tf.extract_image_patches(images=images, ksizes=[1, 4, 4, 1], strides=[1, 7, 7, 1], rates=[1, 1, 1, 1], padding='VALID').eval(), '\\n\\n')\n",
    "    print(tf.extract_image_patches(images=images, ksizes=[1, 4, 4, 1], strides=[1, 7, 7, 1], rates=[1, 1, 1, 1], padding='SAME').eval())"
   ]
  },
  {
   "cell_type": "code",
   "execution_count": 35,
   "metadata": {
    "collapsed": true
   },
   "outputs": [],
   "source": [
    "with tf.Session() as sess:\n",
    "    patch1 = tf.extract_image_patches(images=images, ksizes=[1, 3, 3, 1], strides=[1, 5, 5, 1], rates=[1, 1, 1, 1], padding='VALID').eval()\n",
    "    patch2 = tf.extract_image_patches(images=images, ksizes=[1, 3, 3, 1], strides=[1, 5, 5, 1], rates=[1, 2, 2, 1], padding='VALID').eval()\n",
    "    patch3 = tf.extract_image_patches(images=images, ksizes=[1, 4, 4, 1], strides=[1, 7, 7, 1], rates=[1, 1, 1, 1], padding='VALID').eval()\n",
    "    patch4 = tf.extract_image_patches(images=images, ksizes=[1, 4, 4, 1], strides=[1, 7, 7, 1], rates=[1, 1, 1, 1], padding='SAME').eval()"
   ]
  },
  {
   "cell_type": "code",
   "execution_count": 32,
   "metadata": {
    "scrolled": false
   },
   "outputs": [
    {
     "name": "stdout",
     "output_type": "stream",
     "text": [
      "original_image\n",
      "\n",
      "1 2 3 4 5 6 7 8 9 10 \n",
      "\n",
      "11 12 13 14 15 16 17 18 19 20 \n",
      "\n",
      "21 22 23 24 25 26 27 28 29 30 \n",
      "\n",
      "31 32 33 34 35 36 37 38 39 40 \n",
      "\n",
      "41 42 43 44 45 46 47 48 49 50 \n",
      "\n",
      "51 52 53 54 55 56 57 58 59 60 \n",
      "\n",
      "61 62 63 64 65 66 67 68 69 70 \n",
      "\n",
      "71 72 73 74 75 76 77 78 79 80 \n",
      "\n",
      "81 82 83 84 85 86 87 88 89 90 \n",
      "\n",
      "91 92 93 94 95 96 97 98 99 100 "
     ]
    }
   ],
   "source": [
    "count = 0\n",
    "print('original_image\\n')\n",
    "for pixel in np.asarray(images).flatten():\n",
    "    if count > 9: \n",
    "        print('\\n')\n",
    "        count = 0\n",
    "    count += 1\n",
    "    print(pixel, end=' ')"
   ]
  },
  {
   "cell_type": "code",
   "execution_count": 47,
   "metadata": {},
   "outputs": [
    {
     "name": "stdout",
     "output_type": "stream",
     "text": [
      "patch1\n",
      "\n",
      "3x3 patches with stride length 5\n",
      "\n",
      "(1, 2, 2, 9)\n",
      "\n",
      "* * * 4 5 * * * 9 10 \n",
      "\n",
      "* * * 14 15 * * * 19 20 \n",
      "\n",
      "* * * 24 25 * * * 29 30 \n",
      "\n",
      "31 32 33 34 35 36 37 38 39 40 \n",
      "\n",
      "41 42 43 44 45 46 47 48 49 50 \n",
      "\n",
      "* * * 54 55 * * * 59 60 \n",
      "\n",
      "* * * 64 65 * * * 69 70 \n",
      "\n",
      "* * * 74 75 * * * 79 80 \n",
      "\n",
      "81 82 83 84 85 86 87 88 89 90 \n",
      "\n",
      "91 92 93 94 95 96 97 98 99 100 "
     ]
    }
   ],
   "source": [
    "count = 0\n",
    "print('patch1\\n')\n",
    "print('3x3 patches with stride length 5\\n')\n",
    "print(patch1.shape, end= '\\n\\n')\n",
    "for pixel in np.asarray(images).flatten():\n",
    "    if count > 9: \n",
    "        print('\\n')\n",
    "        count = 0\n",
    "    count += 1\n",
    "    if pixel in patch1.flatten():\n",
    "        print('*', end=' ')\n",
    "        continue\n",
    "    print(pixel, end=' ')"
   ]
  },
  {
   "cell_type": "code",
   "execution_count": 49,
   "metadata": {},
   "outputs": [
    {
     "name": "stdout",
     "output_type": "stream",
     "text": [
      "patch2\n",
      "\n",
      "Same as above, but the rate is increased to 2\n",
      "\n",
      "(1, 2, 2, 9)\n",
      "\n",
      "* 2 * 4 * * 7 * 9 * \n",
      "\n",
      "11 12 13 14 15 16 17 18 19 20 \n",
      "\n",
      "* 22 * 24 * * 27 * 29 * \n",
      "\n",
      "31 32 33 34 35 36 37 38 39 40 \n",
      "\n",
      "* 42 * 44 * * 47 * 49 * \n",
      "\n",
      "* 52 * 54 * * 57 * 59 * \n",
      "\n",
      "61 62 63 64 65 66 67 68 69 70 \n",
      "\n",
      "* 72 * 74 * * 77 * 79 * \n",
      "\n",
      "81 82 83 84 85 86 87 88 89 90 \n",
      "\n",
      "* 92 * 94 * * 97 * 99 * "
     ]
    }
   ],
   "source": [
    "count = 0\n",
    "print('patch2\\n')\n",
    "print('Same as above, but the rate is increased to 2\\n')\n",
    "print(patch2.shape, end= '\\n\\n')\n",
    "for pixel in np.asarray(images).flatten():\n",
    "    if count > 9: \n",
    "        print('\\n')\n",
    "        count = 0\n",
    "    count += 1\n",
    "    if pixel in patch2.flatten():\n",
    "        print('*', end=' ')\n",
    "        continue\n",
    "    print(pixel, end=' ')"
   ]
  },
  {
   "cell_type": "code",
   "execution_count": 50,
   "metadata": {},
   "outputs": [
    {
     "name": "stdout",
     "output_type": "stream",
     "text": [
      "patch3\n",
      "\n",
      "4x4 patches with stride length 7; only one patch should be generated\n",
      "\n",
      "(1, 1, 1, 16)\n",
      "\n",
      "* * * * 5 6 7 8 9 10 \n",
      "\n",
      "* * * * 15 16 17 18 19 20 \n",
      "\n",
      "* * * * 25 26 27 28 29 30 \n",
      "\n",
      "* * * * 35 36 37 38 39 40 \n",
      "\n",
      "41 42 43 44 45 46 47 48 49 50 \n",
      "\n",
      "51 52 53 54 55 56 57 58 59 60 \n",
      "\n",
      "61 62 63 64 65 66 67 68 69 70 \n",
      "\n",
      "71 72 73 74 75 76 77 78 79 80 \n",
      "\n",
      "81 82 83 84 85 86 87 88 89 90 \n",
      "\n",
      "91 92 93 94 95 96 97 98 99 100 "
     ]
    }
   ],
   "source": [
    "count = 0\n",
    "print('patch3\\n')\n",
    "print('4x4 patches with stride length 7; only one patch should be generated\\n')\n",
    "print(patch3.shape, end= '\\n\\n')\n",
    "for pixel in np.asarray(images).flatten():\n",
    "    if count > 9: \n",
    "        print('\\n')\n",
    "        count = 0\n",
    "    count += 1\n",
    "    if pixel in patch3.flatten():\n",
    "        print('*', end=' ')\n",
    "        continue\n",
    "    print(pixel, end=' ')"
   ]
  },
  {
   "cell_type": "code",
   "execution_count": 53,
   "metadata": {},
   "outputs": [
    {
     "name": "stdout",
     "output_type": "stream",
     "text": [
      "patch4\n",
      "\n",
      "Same as above, but with padding set to SAME\n",
      "\n",
      "(1, 2, 2, 16)\n",
      "\n",
      "* * * * 5 6 7 * * * \n",
      "\n",
      "* * * * 15 16 17 * * * \n",
      "\n",
      "* * * * 25 26 27 * * * \n",
      "\n",
      "* * * * 35 36 37 * * * \n",
      "\n",
      "41 42 43 44 45 46 47 48 49 50 \n",
      "\n",
      "51 52 53 54 55 56 57 58 59 60 \n",
      "\n",
      "61 62 63 64 65 66 67 68 69 70 \n",
      "\n",
      "* * * * 75 76 77 * * * \n",
      "\n",
      "* * * * 85 86 87 * * * \n",
      "\n",
      "* * * * 95 96 97 * * * "
     ]
    }
   ],
   "source": [
    "count = 0\n",
    "print('patch4\\n')\n",
    "print('Same as above, but with padding set to SAME\\n')\n",
    "print(patch4.shape, end= '\\n\\n')\n",
    "for pixel in np.asarray(images).flatten():\n",
    "    if count > 9: \n",
    "        print('\\n')\n",
    "        count = 0\n",
    "    count += 1\n",
    "    if pixel in patch4.flatten():\n",
    "        print('*', end=' ')\n",
    "        continue\n",
    "    print(pixel, end=' ')"
   ]
  }
 ],
 "metadata": {
  "kernelspec": {
   "display_name": "Python 3",
   "language": "python",
   "name": "python3"
  },
  "language_info": {
   "codemirror_mode": {
    "name": "ipython",
    "version": 3
   },
   "file_extension": ".py",
   "mimetype": "text/x-python",
   "name": "python",
   "nbconvert_exporter": "python",
   "pygments_lexer": "ipython3",
   "version": "3.6.1"
  }
 },
 "nbformat": 4,
 "nbformat_minor": 2
}
